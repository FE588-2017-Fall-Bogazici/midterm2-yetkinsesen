{
 "cells": [
  {
   "cell_type": "code",
   "execution_count": 2,
   "metadata": {},
   "outputs": [
    {
     "name": "stdout",
     "output_type": "stream",
     "text": [
      "3cos(3x) +7.1sin(2x) +0.3sin(x) -3 \n"
     ]
    }
   ],
   "source": [
    "#Q1\n",
    "\n",
    "import numpy as np\n",
    "import math as mt\n",
    "\n",
    "class polynomial(object):\n",
    "    def __init__(self, c, v='x'):\n",
    "        self.coeff = c\n",
    "        self.v = v\n",
    "    def __repr__(self):\n",
    "        coeff = self.coeff\n",
    "        v = self.v\n",
    "        s = ''\n",
    "        D = len(coeff)\n",
    "        \n",
    "        first = True\n",
    "        \n",
    "        for i in range(D):\n",
    "            pol = D-i-1\n",
    "            pre = '+' if coeff[i]>0 else ''\n",
    "\n",
    "            if first:\n",
    "                if pre=='+':\n",
    "                    pre = ''\n",
    "                first = False\n",
    "            \n",
    "            if pol == 0:\n",
    "                vname = ''\n",
    "            elif pol == 1:\n",
    "                vname = 'sin(' + v + ')'\n",
    "            elif pol == D-1:\n",
    "                vname = 'cos(' + str(D-1) + v + ')'\n",
    "            else:\n",
    "                vname = 'sin(' + str(pol) + '' + v + ')'\n",
    "\n",
    "            if coeff[i] != 0:\n",
    "                s += pre+str(coeff[i])+ vname + ' '\n",
    "               \n",
    "        return s\n",
    "    def __add__(self,b):\n",
    "        L_a = len(self.coeff)\n",
    "        L_b = len(b.coeff)\n",
    "        \n",
    "        coeff = self.coeff if L_a > L_b else b.coeff\n",
    "        short = self.coeff if L_a <= L_b else b.coeff\n",
    "        \n",
    "        for i in range(len(short)):\n",
    "            coeff[-1-i] += short[-1-i]\n",
    "            \n",
    "        return polynomial(coeff, self.v)\n",
    "\n",
    "p = polynomial([3, 7.1, 0.3, -3], 'x')\n",
    "print(p)"
   ]
  },
  {
   "cell_type": "code",
   "execution_count": null,
   "metadata": {
    "collapsed": true
   },
   "outputs": [],
   "source": [
    "#Q2\n",
    "\n",
    "class myobj:\n",
    "    def __init__(self, name):\n",
    "        self.dependencies = []\n",
    "        self.name = name\n",
    "\n",
    "    def add_dependency(self, *myobj):\n",
    "        self.dependencies.extend(myobj)\n",
    "\n",
    "    def build(self, names=None):\n",
    "        if names is None:\n",
    "            names = []\n",
    "\n",
    "        for i in self.dependencies:\n",
    "            if i.name not in names:\n",
    "                i.build(names)\n",
    "                names.append(i.name)\n",
    "\n",
    "        return names\n",
    "\n",
    "    def __str__(self):\n",
    "        return self.name\n",
    "    \n",
    "luke    = myobj(\"Luke\")\n",
    "hansolo = myobj(\"Han Solo\")\n",
    "leia    = myobj(\"Leia\")\n",
    "yoda    = myobj(\"Yoda\")\n",
    "padme   = myobj(\"Padme Amidala\")\n",
    "anakin  = myobj(\"Anakin Skywalker\")\n",
    "obi     = myobj(\"Obi-Wan\")\n",
    "darth   = myobj(\"Darth Vader\")\n",
    "_all    = myobj(\"All\")\n",
    "\n",
    "\n",
    "luke.add_dependency(hansolo, leia, yoda)\n",
    "leia.add_dependency(padme, anakin)\n",
    "obi.add_dependency(yoda)\n",
    "darth.add_dependency(anakin)\n",
    "\n",
    "_all.add_dependency(luke, hansolo, leia, yoda, padme, anakin, obi, darth)\n",
    "_all.build()"
   ]
  },
  {
   "cell_type": "code",
   "execution_count": null,
   "metadata": {
    "collapsed": true
   },
   "outputs": [],
   "source": []
  }
 ],
 "metadata": {
  "kernelspec": {
   "display_name": "Python 3",
   "language": "python",
   "name": "python3"
  },
  "language_info": {
   "codemirror_mode": {
    "name": "ipython",
    "version": 3
   },
   "file_extension": ".py",
   "mimetype": "text/x-python",
   "name": "python",
   "nbconvert_exporter": "python",
   "pygments_lexer": "ipython3",
   "version": "3.6.1"
  }
 },
 "nbformat": 4,
 "nbformat_minor": 2
}
